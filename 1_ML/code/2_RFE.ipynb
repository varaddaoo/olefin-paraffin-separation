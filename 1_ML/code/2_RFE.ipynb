{
 "cells": [
  {
   "cell_type": "code",
   "execution_count": null,
   "id": "0c2f1202",
   "metadata": {},
   "outputs": [],
   "source": [
    "import os\n",
    "import numpy as np\n",
    "import pandas as pd\n",
    "import matplotlib.pyplot as plt\n",
    "import matplotlib as mpl\n",
    "#mpl.rc('figure', max_open_warning = 0)\n",
    "#%matplotlib inline\n",
    "#%config InlineBackend.figure_format='retina'\n",
    "\n",
    "from pandas_profiling import ProfileReport\n",
    "\n",
    "from sklearn.model_selection import train_test_split\n",
    "\n",
    "from collections import OrderedDict"
   ]
  },
  {
   "cell_type": "code",
   "execution_count": null,
   "id": "18ef4d9c",
   "metadata": {},
   "outputs": [],
   "source": [
    "class style:\n",
    "   BOLD = '\\033[1m'\n",
    "   END = '\\033[0m'"
   ]
  },
  {
   "cell_type": "code",
   "execution_count": null,
   "id": "fb5f4899",
   "metadata": {},
   "outputs": [],
   "source": [
    "PATH = os.getcwd() # Getting current directory\n",
    "descriptor_in_path = os.path.join(PATH, '../input/descriptor.csv')\n",
    "\n",
    "df_descriptor = pd.read_csv(descriptor_in_path)\n",
    "\n",
    "print(f'Descriptor input DataFrame shape:\\n\\n {df_descriptor.shape}\\n')\n",
    "print('------------------------------------------------------------')\n",
    "\n",
    "print(f'\\nDescriptor input data columns:\\n\\n {df_descriptor.columns}\\n')\n",
    "print('------------------------------------------------------------')\n",
    "\n",
    "print(f'\\nDescriptor input dataframe head:\\n\\n {df_descriptor.head()}\\n')\n",
    "print('------------------------------------------------------------')\n",
    "\n",
    "del descriptor_in_path"
   ]
  },
  {
   "cell_type": "markdown",
   "id": "729f2bea",
   "metadata": {},
   "source": [
    "## Renaming descriptor columns"
   ]
  },
  {
   "cell_type": "code",
   "execution_count": null,
   "id": "95a9e76a",
   "metadata": {},
   "outputs": [],
   "source": [
    "rename_dict = {'name': 'mof', 'Di': 'LCD', 'Df': 'PLD', 'ASA(m2/gram)_1.9': 'GSA', \n",
    "               'AV_Volume_fraction_1.9': 'AVF', 'AV(cm3/gram)_1.9': 'GPV', 'density(gram_cm3)': 'Density'}\n",
    "\n",
    "df_descriptor = df_descriptor.rename(columns=rename_dict)\n",
    "\n",
    "print(f'\\nCurated descriptor columns:\\n\\n {df_descriptor.columns}\\n')\n",
    "print('------------------------------------------------------------')\n",
    "\n",
    "print(df_descriptor.dtypes) # Prints the datatype of each column in dataframe\n",
    "del rename_dict"
   ]
  },
  {
   "cell_type": "markdown",
   "id": "be5abbda",
   "metadata": {},
   "source": [
    "## Curating descriptor data"
   ]
  },
  {
   "cell_type": "code",
   "execution_count": null,
   "id": "3506d10a",
   "metadata": {},
   "outputs": [],
   "source": [
    "df_descriptor_gross1_atomic = df_descriptor\n",
    "\n",
    "# Selecting materials with PLD > 3.8 A\n",
    "\n",
    "df_descriptor_gross1_atomic = df_descriptor_gross1_atomic[(df_descriptor_gross1_atomic['PLD'] > 3.8)]\n",
    "\n",
    "# Selecting materials with non-zero void fraction\n",
    "\n",
    "df_descriptor_gross1_atomic = df_descriptor_gross1_atomic[(df_descriptor_gross1_atomic['AVF'] > 0.0)]\n",
    "\n",
    "descriptor_mof_name = df_descriptor_gross1_atomic['mof'].astype(str)\n",
    "\n",
    "PATH = os.getcwd() # Getting current directory\n",
    "curated_mof_name = os.path.join(PATH, '../output/curated-mof.csv')\n",
    "descriptor_mof_name.to_csv(curated_mof_name, index=False)\n",
    "\n",
    "columns = ['PLD', 'LCD', 'GSA', 'AVF', 'GPV', 'Density', 'total_degree_unsaturation', 'degree_unsaturation', \n",
    "           'metallic_percentage', 'O_to_Metal_ration', 'N_to_O_ratio', 'H' ,'Ni', 'Co', 'Cu', 'Zn', 'Pb', 'Mn',\n",
    "           'Cd', 'C', 'O', 'N', 'S', 'Cl', 'Br', 'F', 'I']\n",
    "\n",
    "shap_columns = columns\n",
    "\n",
    "df_descriptor_gross1_atomic = df_descriptor_gross1_atomic[columns].astype(float)\n",
    "curated_mof_prop = os.path.join(PATH, '../output/curated-mof-prop.csv')\n",
    "\n",
    "df_descriptor_gross1_atomic.to_csv(curated_mof_prop, index=False)\n",
    "\n",
    "print(f'\\nCurated gross1_atomic descriptor data:\\n\\n {df_descriptor_gross1_atomic}\\n')\n",
    "print('\\n------------------------------------------------------------\\n')\n",
    "\n",
    "print(f'\\nData type of each column. Note that it should be float\\n\\n {df_descriptor_gross1_atomic.dtypes}\\n')\n",
    "print('\\n------------------------------------------------------------\\n')\n",
    "\n",
    "del df_descriptor\n",
    "del columns\n",
    "del descriptor_mof_name\n",
    "del curated_mof_name\n",
    "del curated_mof_prop"
   ]
  },
  {
   "cell_type": "markdown",
   "id": "0ae88ece",
   "metadata": {},
   "source": [
    "## Taking look at target data"
   ]
  },
  {
   "cell_type": "code",
   "execution_count": null,
   "id": "6bdfb53f",
   "metadata": {},
   "outputs": [],
   "source": [
    "target_in_path = os.path.join(PATH, '../input/C3H8-C3H6.csv')\n",
    "#target_in_path = os.path.join(PATH, '../input/C2H6-C2H4.csv')\n",
    "\n",
    "df_target = pd.read_csv(target_in_path)\n",
    "\n",
    "print(f'Target property input DataFrame shape:\\n\\n {df_target.shape}\\n')\n",
    "print('------------------------------------------------------------')\n",
    "\n",
    "print(f'\\nTarget property input data columns:\\n\\n {df_target.columns}\\n')\n",
    "print('------------------------------------------------------------')\n",
    "\n",
    "print(f'\\nTarget property input dataframe head:\\n\\n {df_target.head()}\\n')\n",
    "print('------------------------------------------------------------')\n",
    "\n",
    "del target_in_path"
   ]
  },
  {
   "cell_type": "markdown",
   "id": "a2582f91",
   "metadata": {},
   "source": [
    "## Renaming Target property columns"
   ]
  },
  {
   "cell_type": "code",
   "execution_count": null,
   "id": "5dfb4d6b",
   "metadata": {},
   "outputs": [],
   "source": [
    "rename_dict = {'MOF_no': 'mof', 'propane_avg(mol/kg)': 'propane_uptake(mol/kg)',\n",
    "              'propylene_avg(mol/kg)': 'propylene_uptake(mol/kg)',\n",
    "              'C3H8/C3H6 Selectivity (1Bar)': 'propane_propylene_selectivity', 'Df': 'PLD',\n",
    "              'AV_Volume_fraction_1.9': 'AVF'}\n",
    "'''\n",
    "\n",
    "rename_dict = {'MOF_no': 'mof', 'ethane_avg(mol/kg)': 'ethane_uptake(mol/kg)',\n",
    "              'ethylene_avg(mol/kg)': 'ethylene_uptake(mol/kg)',\n",
    "              'C2H6/C2H4 Selectivity (1Bar)': 'ethane_ethylene_selectivity', 'Df': 'PLD',\n",
    "              'AV_Volume_fraction_1.9': 'AVF'}\n",
    "\n",
    "'''\n",
    "df_target = df_target.rename(columns=rename_dict)\n",
    "\n",
    "print(f'\\nCurated target columns:\\n\\n {df_target.columns}\\n')\n",
    "print('------------------------------------------------------------')\n",
    "      \n",
    "del rename_dict"
   ]
  },
  {
   "cell_type": "markdown",
   "id": "56cfe5ff",
   "metadata": {},
   "source": [
    "## Curating Target dataset"
   ]
  },
  {
   "cell_type": "code",
   "execution_count": null,
   "id": "a20f59d1",
   "metadata": {},
   "outputs": [],
   "source": [
    "df_target_gross1_atomic = df_target\n",
    "\n",
    "# Selecting materials with PLD > 3.8 A\n",
    "\n",
    "df_target_gross1_atomic = df_target_gross1_atomic[(df_target_gross1_atomic['PLD'] > 3.8)]\n",
    "\n",
    "# Selecting material with AVF > 0\n",
    "df_target_gross1_atomic = df_target_gross1_atomic[(df_target_gross1_atomic['AVF'] > 0.0)]\n",
    "\n",
    "target_mof_name = df_target_gross1_atomic['mof'].astype(str)\n",
    "target_mof_name_path = os.path.join(PATH, '../output/target-mof-name.csv')\n",
    "target_mof_name.to_csv(target_mof_name_path, index=False)\n",
    "\n",
    "columns = ['propane_uptake(mol/kg)', 'propane_propylene_selectivity', 'TSN', 'propylene_uptake(mol/kg)']\n",
    "\n",
    "#columns = ['ethane_uptake(mol/kg)', 'ethane_ethylene_selectivity', 'TSN', 'ethylene_uptake(mol/kg)']\n",
    "\n",
    "\n",
    "df_target_gross1_atomic = df_target_gross1_atomic[columns].astype(float)\n",
    "target_mof_prop_path = os.path.join(PATH, '../output/target-mof-prop.csv')\n",
    "\n",
    "print(f'\\nCurated target data:\\n\\n {df_target_gross1_atomic}\\n')\n",
    "print('\\n------------------------------------------------------------\\n')\n",
    "\n",
    "print(f'\\nData type of each column. Note that it should be float\\n\\n {df_target_gross1_atomic.dtypes}\\n')\n",
    "print('\\n------------------------------------------------------------\\n')\n",
    "\n",
    "del df_target\n",
    "del columns\n",
    "del target_mof_name\n",
    "del target_mof_name_path\n",
    "del target_mof_prop_path"
   ]
  },
  {
   "cell_type": "code",
   "execution_count": null,
   "id": "a7eb22e5",
   "metadata": {},
   "outputs": [],
   "source": [
    "'''\n",
    "profile = ProfileReport(df_join.copy(),title='C3H8-C3H6', html={'style':{'full_width':True}})\n",
    "# profile.to_widgets()\n",
    "#profile.to_notebook_iframe()\n",
    "C3H8_report = os.path.join(PATH, '../output/C3H8-C3H6-report.csv')\n",
    "\n",
    "profile.to_file(\"/home/varad/Pictures/best_model_selection_updated/1_excluding_oms/1_Propane_RACs_excluding.html\")\n",
    "\n",
    "''''"
   ]
  },
  {
   "cell_type": "code",
   "execution_count": null,
   "id": "d15f6a08",
   "metadata": {},
   "outputs": [],
   "source": [
    "X_crude = df_descriptor_gross1_atomic\n",
    "Y_crude = df_target_gross1_atomic\n",
    "\n",
    "print(f'\\nShape of X_crude: {X_crude.shape}')\n",
    "print(f'\\nShape of Y_crude: {Y_crude.shape}')\n",
    "\n",
    "del df_descriptor_gross1_atomic\n",
    "del df_target_gross1_atomic"
   ]
  },
  {
   "cell_type": "code",
   "execution_count": null,
   "id": "8066ff62",
   "metadata": {},
   "outputs": [],
   "source": [
    "X, X_val_crude, Y, Y_val_crude = train_test_split(X_crude, Y_crude, test_size=0.32, random_state=42)"
   ]
  },
  {
   "cell_type": "markdown",
   "id": "de15c468",
   "metadata": {},
   "source": [
    "## RFE for Property"
   ]
  },
  {
   "cell_type": "code",
   "execution_count": null,
   "id": "02eadc7e",
   "metadata": {},
   "outputs": [],
   "source": [
    "RNG_SEED = 42"
   ]
  },
  {
   "cell_type": "code",
   "execution_count": null,
   "id": "bb0d7768",
   "metadata": {},
   "outputs": [],
   "source": [
    "X_train_crude, X_test_crude, Y_train_crude, Y_test_crude = train_test_split(X, Y, test_size=0.294, random_state=RNG_SEED)"
   ]
  },
  {
   "cell_type": "code",
   "execution_count": null,
   "id": "bc2f2804",
   "metadata": {},
   "outputs": [],
   "source": [
    "len(X_test_crude)"
   ]
  },
  {
   "cell_type": "code",
   "execution_count": null,
   "id": "f55a3c6b",
   "metadata": {},
   "outputs": [],
   "source": [
    "len(X_val_crude)"
   ]
  },
  {
   "cell_type": "code",
   "execution_count": null,
   "id": "ec0995ba",
   "metadata": {},
   "outputs": [],
   "source": [
    "# Scaling the data\n",
    "scaler = StandardScaler()\n",
    "\n",
    "X_train_scaled = scaler.fit_transform(X_train_crude)\n",
    "X_val_scaled   = scaler.transform(X_val_crude)\n",
    "X_test_scaled  = scaler.transform(X_test_crude)\n",
    "\n",
    "# Normalizing the unscaled data\n",
    "norm = MinMaxScaler().fit(X_train_crude)\n",
    "\n",
    "X_train_norm  = norm.transform(X_train_crude)\n",
    "X_val_norm    = norm.transform(X_val_crude)\n",
    "X_test_norm   = norm.transform(X_test_crude)\n",
    "\n",
    "# Normalizing the scaled data\n",
    "norm_scaled         = MinMaxScaler().fit(X_train_scaled)\n",
    "\n",
    "X_train_scaled_norm = norm_scaled.transform(X_train_scaled)\n",
    "X_val_scaled_norm   = norm_scaled.transform(X_val_scaled)\n",
    "X_test_scaled_norm  = norm_scaled.transform(X_test_scaled)"
   ]
  },
  {
   "cell_type": "code",
   "execution_count": null,
   "id": "21534a37",
   "metadata": {},
   "outputs": [],
   "source": [
    "X_train  = X_train_scaled_norm\n",
    "X_val    = X_val_scaled_norm\n",
    "X_test   = X_test_scaled_norm"
   ]
  },
  {
   "cell_type": "code",
   "execution_count": null,
   "id": "9024911b",
   "metadata": {},
   "outputs": [],
   "source": [
    "# Target Y is neigther scaled nor normalized\n",
    "\n",
    "# If index is 0 then, propane / ethane uptake (mol/kg)  \n",
    "# If index is 1 then, selectivity\n",
    "# If index is 2 then, TSN\n",
    "# If index is 3 then, propylene / ethylene uptake (mol/kg)\n",
    "\n",
    "print('------------------------------------------------------------')\n",
    "print(style.BOLD + 'Define property here :' + style.END)\n",
    "print('------------------------------------------------------------')\n",
    "\n",
    "Y_target_train = Y_train_crude.iloc[:,1]\n",
    "Y_target_test  = Y_test_crude.iloc[:,1]\n",
    "Y_target_val   = Y_val_crude.iloc[:,1]"
   ]
  },
  {
   "cell_type": "markdown",
   "id": "da5ca975",
   "metadata": {},
   "source": [
    "## RFE (Recursive Feature Elimination)\n",
    "1. RFE is used to recurcively eliminate the most unimportant features. To impliment RFE we need an estimator. Official documentation can be found [here](https://scikit-learn.org/stable/modules/generated/sklearn.feature_selection.RFE.html).\n",
    "2. Useful synmtax of RFE for me is :\n",
    "```\n",
    "object_variable = RFE(estimator(para_grid of estimator), n_features_to_select = index), for example\n",
    "sel = RFE(GradientBoostingRegressor(n_estimators=100, random_state=RNG_SEED), n_features_to_select = index)\n",
    "```\n",
    "3. The most important features will be calculated by RFE using following line:\n",
    "```\n",
    "sel.fit(X_train, Y_target_train)\n",
    "```"
   ]
  },
  {
   "cell_type": "code",
   "execution_count": null,
   "id": "bc776469",
   "metadata": {},
   "outputs": [],
   "source": [
    "X_train_scaled_normalized_original = X_train\n",
    "X_test_scaled_normalized_original  = X_test\n",
    "X_val_scaled_normalized_original   = X_val"
   ]
  },
  {
   "cell_type": "code",
   "execution_count": null,
   "id": "9b9ae5d4",
   "metadata": {},
   "outputs": [],
   "source": [
    "X_crude.columns"
   ]
  },
  {
   "cell_type": "code",
   "execution_count": null,
   "id": "c77edcea",
   "metadata": {},
   "outputs": [],
   "source": [
    "X.columns"
   ]
  },
  {
   "cell_type": "code",
   "execution_count": null,
   "id": "72987296",
   "metadata": {},
   "outputs": [],
   "source": [
    "\n",
    "def run_randomForest_test(X_train, X_val, Y_train, Y_val):\n",
    "    \n",
    "    rfr = RandomForestRegressor(random_state=RNG_SEED, bootstrap=True, max_depth=10,max_features='auto',\n",
    "                                min_samples_leaf=2, min_samples_split=2, n_estimators = 50, n_jobs = 10)\n",
    "    rfr.fit(X_train, Y_train)\n",
    "    Y_pred_train = rfr.predict(X_train)\n",
    "    Y_pred_val  = rfr.predict(X_val)\n",
    "    print(\"\\nR^2 score on train set: %.3f\\n\" % r2_score(Y_train, Y_pred_train))\n",
    "    print(\"\\nR^2 score on validation set: %.3f\\n\" % r2_score(Y_val, Y_pred_val))\n",
    "    print(\"\\nMAE score on validation set: %.3f\\n\" % mean_absolute_error(Y_val, Y_pred_val))\n"
   ]
  },
  {
   "cell_type": "code",
   "execution_count": null,
   "id": "82185fdc",
   "metadata": {},
   "outputs": [],
   "source": [
    "\n",
    "sel = RFE(GradientBoostingRegressor(random_state=RNG_SEED), n_features_to_select = 24)\n",
    "      # Calling RFE\n",
    "\n",
    "sel.fit(X_train_scaled_normalized_original, Y_target_train) # At this point RFE has selected the $index most important features \n",
    "                                 # (where index = no of featues = variable from 1 to 29)\n",
    "\n",
    "X_train_rfe = sel.transform(X_train_scaled_normalized_original) # Say X_train has colums = 29, index = 1, then X_train_rfe will have\n",
    "X_val_rfe = sel.transform(X_val_scaled_normalized_original) # same features as selected by RFE. This is done because I wanted to select\n",
    "                                 # Only those features which perform good on validation set\n",
    "\n",
    "print('No of Selected Feature are : 24')\n",
    "\n",
    "run_randomForest_test(X_train_rfe, X_val_rfe, Y_target_train, Y_target_val) # Calculating R2 score for train and validation set\n",
    "\n",
    "features = X.columns[sel.get_support()] # printing the columns\n",
    "\n",
    "print(f'Selected Features are : \\n {features}\\n')\n",
    "print('------------------------------------------------------------')\n",
    "print()\n"
   ]
  }
 ],
 "metadata": {
  "kernelspec": {
   "display_name": "Python 3",
   "language": "python",
   "name": "python3"
  },
  "language_info": {
   "codemirror_mode": {
    "name": "ipython",
    "version": 3
   },
   "file_extension": ".py",
   "mimetype": "text/x-python",
   "name": "python",
   "nbconvert_exporter": "python",
   "pygments_lexer": "ipython3",
   "version": "3.8.8"
  },
  "varInspector": {
   "cols": {
    "lenName": 16,
    "lenType": 16,
    "lenVar": 40
   },
   "kernels_config": {
    "python": {
     "delete_cmd_postfix": "",
     "delete_cmd_prefix": "del ",
     "library": "var_list.py",
     "varRefreshCmd": "print(var_dic_list())"
    },
    "r": {
     "delete_cmd_postfix": ") ",
     "delete_cmd_prefix": "rm(",
     "library": "var_list.r",
     "varRefreshCmd": "cat(var_dic_list()) "
    }
   },
   "position": {
    "height": "295.844px",
    "left": "612.667px",
    "right": "20px",
    "top": "84px",
    "width": "544px"
   },
   "types_to_exclude": [
    "module",
    "function",
    "builtin_function_or_method",
    "instance",
    "_Feature"
   ],
   "window_display": false
  }
 },
 "nbformat": 4,
 "nbformat_minor": 5
}
